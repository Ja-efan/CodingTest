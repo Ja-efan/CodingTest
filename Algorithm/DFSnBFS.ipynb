{
 "cells": [
  {
   "cell_type": "code",
   "execution_count": 6,
   "metadata": {},
   "outputs": [],
   "source": [
    "def recursive_dfs(graph:dict, v:int, visited:list) -> list:\n",
    "    visited.append(v) # 현재 노드 방문 처리\n",
    "    for i in graph[v]: # 현재 노드와 인접 노드\n",
    "    \tif i not in visited: # 방문하지 않은 노드라면\n",
    "        \trecursive_dfs(graph, i, visited) # 재귀적으로 dfs 진행\n",
    "    return visited # 방문 순서 return   "
   ]
  },
  {
   "cell_type": "code",
   "execution_count": 7,
   "metadata": {},
   "outputs": [],
   "source": [
    "graph = {\n",
    "    1: [2, 3],\n",
    "    2: [1, 4, 5],\n",
    "    3: [1, 6],\n",
    "    4: [2],\n",
    "    5: [2],\n",
    "    6: [3],\n",
    "}"
   ]
  },
  {
   "cell_type": "code",
   "execution_count": 8,
   "metadata": {},
   "outputs": [
    {
     "data": {
      "text/plain": [
       "[1, 2, 4, 5, 3, 6]"
      ]
     },
     "execution_count": 8,
     "metadata": {},
     "output_type": "execute_result"
    }
   ],
   "source": [
    "recursive_dfs(graph, 1, [])"
   ]
  },
  {
   "cell_type": "code",
   "execution_count": 27,
   "metadata": {},
   "outputs": [],
   "source": [
    "def stack_dfs(graph:dict, v:int) -> list:\n",
    "    visited = [] # 방문 여부 리스트 \n",
    "    stack = [v] # 스택에 초기 시작 노드 추가 \n",
    "    while stack: # 스택이 빌 때까지 반복\n",
    "        vertex = stack.pop() # 스택에서 하나의 노드를 꺼냄\n",
    "        if vertex not in visited: # 방문하지 않은 노드라면\n",
    "            visited.append(vertex) # 방문 처리 \n",
    "            stack.extend(reversed(graph[vertex])) # 인접한 노드들의 방문 순서를 지키기 위해 역순으로 스택에 추가(extend)\n",
    "       \n",
    "    return visited # 방문 순서 return \n",
    "    "
   ]
  },
  {
   "cell_type": "code",
   "execution_count": 28,
   "metadata": {},
   "outputs": [
    {
     "data": {
      "text/plain": [
       "[1, 2, 4, 5, 3, 6]"
      ]
     },
     "execution_count": 28,
     "metadata": {},
     "output_type": "execute_result"
    }
   ],
   "source": [
    "stack_dfs(graph,1)"
   ]
  },
  {
   "cell_type": "code",
   "execution_count": 29,
   "metadata": {},
   "outputs": [],
   "source": [
    "from collections import deque\n",
    "def bfs(graph:dict, start:int, visited:list) -> list :\n",
    "    dq = deque([start]) # 시작 노드를 큐에 추가 \n",
    "    visited.append(start) # 시작 노드 방문 처리 \n",
    "\n",
    "    while dq: # 큐가 빌 때 까지 반복\n",
    "        v = dq.popleft() # 큐의 맨 앞 노드 pop\n",
    "        for i in graph[v]: # pop한 노드와 인접한 노드들\n",
    "            if i not in visited: # 방문하지 않은 노드라면\n",
    "                dq.append(i) # 큐에 추가하고\n",
    "                visited.append(i) # 방문 처리 \n",
    "    return visited"
   ]
  },
  {
   "cell_type": "code",
   "execution_count": 30,
   "metadata": {},
   "outputs": [
    {
     "data": {
      "text/plain": [
       "[1, 2, 3, 4, 5, 6]"
      ]
     },
     "execution_count": 30,
     "metadata": {},
     "output_type": "execute_result"
    }
   ],
   "source": [
    "bfs(graph, 1, [])"
   ]
  },
  {
   "cell_type": "code",
   "execution_count": null,
   "metadata": {},
   "outputs": [],
   "source": []
  }
 ],
 "metadata": {
  "kernelspec": {
   "display_name": "data",
   "language": "python",
   "name": "python3"
  },
  "language_info": {
   "codemirror_mode": {
    "name": "ipython",
    "version": 3
   },
   "file_extension": ".py",
   "mimetype": "text/x-python",
   "name": "python",
   "nbconvert_exporter": "python",
   "pygments_lexer": "ipython3",
   "version": "3.12.1"
  }
 },
 "nbformat": 4,
 "nbformat_minor": 2
}
