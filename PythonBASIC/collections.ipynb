{
 "cells": [
  {
   "cell_type": "markdown",
   "metadata": {},
   "source": [
    "# Collections\n",
    "\n",
    "'collections' 모듈은 Python의 표준 라이브러리 중 하나로, 일반적인 데이터 구조를 보다 효율적으로 사용할 수 있도록 다양한 컨테이너 데이터 타입을 제공한다.\n",
    "\n",
    "이 모듈은 일반적인 데이터 구조인 list, tuple, dictionary와 같은 기본 컨테이너들을 보완하는 몇 가지 특별한 컨테이너 타입들을 포함하고 있다. "
   ]
  },
  {
   "cell_type": "code",
   "execution_count": 1,
   "metadata": {},
   "outputs": [],
   "source": [
    "import collections"
   ]
  },
  {
   "cell_type": "markdown",
   "metadata": {},
   "source": [
    "## Counter\n",
    "\n",
    "'Counter'는 요소의 개수를 세는데 사용한다. \n",
    "\n",
    "예를 들어, 리스트나 문자열 같은 데이터에서 각 요소의 출현 횟수를 딕셔너리 형태로 반환한다. "
   ]
  },
  {
   "cell_type": "code",
   "execution_count": 2,
   "metadata": {},
   "outputs": [
    {
     "name": "stdout",
     "output_type": "stream",
     "text": [
      "Counter({'a': 3, 'n': 2, 'b': 1})\n",
      "Counter({'apple': 2, 'cherry': 2, 'banana': 1})\n"
     ]
    }
   ],
   "source": [
    "from collections import Counter\n",
    "\n",
    "# 문자열에서 각 문자의 등장 횟수 세기\n",
    "char_count = Counter(\"banana\")\n",
    "print(char_count)\n",
    "\n",
    "# 리스트에서 각 요소의 등장 횟수 세기\n",
    "word_list = ['apple', 'banana', 'cherry', 'apple', 'cherry']\n",
    "word_count = Counter(word_list)\n",
    "print(word_count)"
   ]
  },
  {
   "cell_type": "markdown",
   "metadata": {},
   "source": [
    "## deque\n",
    "\n",
    "'deque'는 양쪽 끝에서 요소를 추가하거나 제거할 수 있는 양방향 큐이다. \n",
    "\n",
    "스택이나 큐의 기능을 필요로 할 때 유용하다."
   ]
  },
  {
   "cell_type": "code",
   "execution_count": 3,
   "metadata": {},
   "outputs": [
    {
     "name": "stdout",
     "output_type": "stream",
     "text": [
      "deque(['a', 'b', 'c'])\n",
      "After append:  deque(['a', 'b', 'c', 'd'])\n",
      "After appendleft:  deque(['e', 'a', 'b', 'c', 'd'])\n",
      "After pop:  deque(['e', 'a', 'b', 'c'])\n",
      "After popleft:  deque(['a', 'b', 'c'])\n"
     ]
    }
   ],
   "source": [
    "from collections import deque  \n",
    "\n",
    "dq = deque(['a', 'b', 'c'])\n",
    "print(dq)\n",
    "\n",
    "# 오른쪽(끝)에 요소 추가 \n",
    "dq.append('d')\n",
    "print('After append: ', dq)\n",
    "\n",
    "# 왼쪽(앞)에 요소 추가\n",
    "dq.appendleft('e')\n",
    "print('After appendleft: ', dq)\n",
    "\n",
    "# 오른쪽(끝) 요소 제거 \n",
    "dq.pop()\n",
    "print('After pop: ', dq)\n",
    "\n",
    "# 왼쪽(앞) 요소 제거 \n",
    "dq.popleft()\n",
    "print('After popleft: ', dq)"
   ]
  },
  {
   "cell_type": "markdown",
   "metadata": {},
   "source": [
    "## namedtuple\n",
    "\n",
    "'namedtuple'은 튜플의 하위 클래스로, 필드에 이름을 붙여 접근할 수 있다.\n",
    "\n",
    "클래스와 비슷한 느낌"
   ]
  },
  {
   "cell_type": "code",
   "execution_count": 5,
   "metadata": {},
   "outputs": [
    {
     "name": "stdout",
     "output_type": "stream",
     "text": [
      "Person(name='John', age=30, gender='Male')\n",
      "John\n",
      "30\n",
      "Male\n"
     ]
    }
   ],
   "source": [
    "from collections import namedtuple\n",
    "\n",
    "# 'Person' namedtuple 정의 \n",
    "Person = namedtuple('Person', 'name age gender')\n",
    "\n",
    "# Person 인스턴스 생성\n",
    "p = Person(name='John', age=30, gender='Male')\n",
    "print(p)\n",
    "print(p.name)\n",
    "print(p.age)\n",
    "print(p.gender)"
   ]
  },
  {
   "cell_type": "markdown",
   "metadata": {},
   "source": [
    "## OrderedDict\n",
    "\n",
    "'OrderDict'는 요소가 추가된 순서를 기억하는 딕셔너리이다."
   ]
  },
  {
   "cell_type": "code",
   "execution_count": 6,
   "metadata": {},
   "outputs": [
    {
     "name": "stdout",
     "output_type": "stream",
     "text": [
      "banana 3\n",
      "apple 4\n",
      "pear 1\n"
     ]
    }
   ],
   "source": [
    "from collections import OrderedDict\n",
    "\n",
    "od = OrderedDict()\n",
    "od['banana'] = 3\n",
    "od['apple'] = 4\n",
    "od['pear'] = 1\n",
    "\n",
    "for key, val in od.items():\n",
    "    print(key, val)"
   ]
  },
  {
   "cell_type": "code",
   "execution_count": 12,
   "metadata": {},
   "outputs": [
    {
     "name": "stdout",
     "output_type": "stream",
     "text": [
      "Before popitemOrderedDict([('banana', 3), ('apple', 4), ('pear', 1)])\n",
      "('pear', 1)\n",
      "After popitem: OrderedDict([('banana', 3), ('apple', 4)])\n"
     ]
    }
   ],
   "source": [
    "od = OrderedDict()\n",
    "od['banana'] = 3\n",
    "od['apple'] = 4\n",
    "od['pear'] = 1\n",
    "\n",
    "# 마지막 (key, value) 쌍 반환 후 제거 -\n",
    "print(f\"Before popitem{od}\")\n",
    "print(od.popitem()) # popitem()의 last 인자에 따라서 FIFO인지 LIFO인지 설정 가능, default : last = True\n",
    "print(f\"After popitem: {od}\")"
   ]
  },
  {
   "cell_type": "code",
   "execution_count": 11,
   "metadata": {},
   "outputs": [
    {
     "name": "stdout",
     "output_type": "stream",
     "text": [
      "Before popitem(last=False): OrderedDict([('banana', 3), ('apple', 4), ('pear', 1)])\n",
      "('banana', 3)\n",
      "After popitem(last=False): OrderedDict([('apple', 4), ('pear', 1)])\n"
     ]
    }
   ],
   "source": [
    "od = OrderedDict()\n",
    "od['banana'] = 3\n",
    "od['apple'] = 4\n",
    "od['pear'] = 1\n",
    "\n",
    "#  (key, value) 쌍 반환 후 제거\n",
    "print(f\"Before popitem(last=False): {od}\")\n",
    "print(od.popitem(last=False)) # FIFO로 pop\n",
    "print(f\"After popitem(last=False): {od}\")"
   ]
  },
  {
   "cell_type": "markdown",
   "metadata": {},
   "source": [
    "## defaultdict\n",
    "\n",
    "'defaultdict'는 존재하지 않는 키에 대한 기본값을 제공하는 딕셔너리이다."
   ]
  },
  {
   "cell_type": "code",
   "execution_count": 14,
   "metadata": {},
   "outputs": [
    {
     "name": "stdout",
     "output_type": "stream",
     "text": [
      "1\n",
      "0\n"
     ]
    }
   ],
   "source": [
    "from collections import defaultdict\n",
    "\n",
    "# int의 기본값은 0이므로, 새 키에 대한 기본값으로 0을 사용\n",
    "dd = defaultdict(int)\n",
    "dd['apple'] += 1\n",
    "\n",
    "print(dd['apple']) # 위에서 += 1 \n",
    "print(dd['banana']) # 존재하지 않는 키"
   ]
  },
  {
   "cell_type": "code",
   "execution_count": null,
   "metadata": {},
   "outputs": [],
   "source": []
  }
 ],
 "metadata": {
  "kernelspec": {
   "display_name": "base",
   "language": "python",
   "name": "python3"
  },
  "language_info": {
   "codemirror_mode": {
    "name": "ipython",
    "version": 3
   },
   "file_extension": ".py",
   "mimetype": "text/x-python",
   "name": "python",
   "nbconvert_exporter": "python",
   "pygments_lexer": "ipython3",
   "version": "3.10.10"
  }
 },
 "nbformat": 4,
 "nbformat_minor": 2
}
