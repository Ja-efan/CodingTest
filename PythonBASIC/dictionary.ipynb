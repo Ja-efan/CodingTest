{
 "cells": [
  {
   "cell_type": "markdown",
   "metadata": {},
   "source": [
    "## Hash\n",
    "\n",
    "해시란 **'임의의 길이를 갖는 데이터를 고정 길이를 갖는 데이터(값)으로 매핑하는 것'** 을 의미한다.\n",
    "\n",
    "## Hash Function\n",
    "\n",
    "해시 함수는 **'임의의 길이를 갖는 데이터를 고정 길이를 갖는 데이터(값)으로 매핑하는 함수'** 라고 할 수 있다.\n",
    "\n",
    "이때, 매핑 전 원래 데이터의 값을 **키(Key)**, 매핑 후 데이터의 값을 **해시 값(Hash value)**, 매핑하는 과정 자체는 **해싱(Hashing)** 이라고 한다.\n",
    "\n",
    "## Hash Table\n",
    "\n",
    "해시 함수를 사용해 키를 해시 값으로 매핑하고, 이 해시 값을 색인(index) 혹은 주소 삼아 데이터의 값(value)을 키와 함께 저장하는 자료구조를 해시 테이블이라고 한다."
   ]
  },
  {
   "attachments": {
    "image.png": {
     "image/png": "[encoded data removed]"
    }
   },
   "cell_type": "markdown",
   "metadata": {},
   "source": [
    "![image.png](attachment:image.png) \n",
    "https://commons.wikimedia.org/wiki/File:Hash_table_3_1_1_0_1_0_0_SP.svg\n",
    "\n",
    "16명의 사람들의 이름을 key로 사용하여 전화번호를 value로 저장하는 해시 테이블 구조를 만든다고 생각해보자. \n",
    "\n",
    "John Smith(key)의 전화번호(value) 저장할 때, **hash_function(\"John Smith\") % 16** 을 통해서 색인(index) 혹은 주소 값을 구해내고,\n",
    "\n",
    "buckets[index]에는 John Smith의 전화번호인 \"521-8976\"을 저장한다.\n",
    "\n"
   ]
  },
  {
   "cell_type": "markdown",
   "metadata": {},
   "source": [
    "이러한 형식으로 데이터를 저장하면, key에 대한 value/data를 찾을 때(search), \n",
    "\n",
    "hash_function을 한 번만 수행하면 array(bucktes)내에 저장된 value의 index를 찾아낼 수 있기 때문에 \n",
    "\n",
    "**탐색(search), 삽입(insert) 그리고 삭제(delete)연산** 이 매우 빠르다. -> **O(1)**\n",
    "\n",
    "이는 선형 자료구조가 갖는 연산 O(n)보다 훨씬 빠르다고 볼 수 있다."
   ]
  },
  {
   "cell_type": "markdown",
   "metadata": {},
   "source": [
    "탐색(search) : 해시 함수를 사용, 인덱스로 값을 탐색 -> O(1)\n",
    "\n",
    "삽입(insert) : 해시 함수를 통해 인덱스(주소/위치)가 정해짐 -> O(1)\n",
    "\n",
    "삭제(delete) : 인덱스와 인덱스에 해당하는 값만 지우면 됨 (순서 정리 필요 x) -> O(1)"
   ]
  },
  {
   "cell_type": "markdown",
   "metadata": {},
   "source": [
    "## Pros.\n",
    "\n",
    "1. 적은 자원으로 많은 데이터를 효율적으로 관리할 수 있다.\n",
    "2. 검색, 삽입, 삭제 연산이 빠르다.\n",
    "3. 보안성이 좋다.\n",
    "4. 중복 제거에 용이하다.\n",
    "\n",
    "## Cons.\n",
    "1. 해시 충돌 가능성이 있다.\n",
    "2. 공간 복잡도가 증가한다.\n",
    "3. 해시 함수에 대한 의존도가 증가한다."
   ]
  },
  {
   "cell_type": "markdown",
   "metadata": {},
   "source": [
    "## Dictionary\n",
    "\n",
    "Python의 Dictionary가 Hash Table을 활용한 예이다. \n",
    "\n",
    "Dictionary는 키(key)와 값(value)이 하나의 쌍으로서 대응 관계를 가지는 자료형이다.\n",
    "\n",
    "이러한 특징으로, 저장된 순서와 상관없이 key를 이용해서 바로 value에 접근이 가능하다."
   ]
  },
  {
   "cell_type": "markdown",
   "metadata": {},
   "source": [
    "### Dictionary 선언"
   ]
  },
  {
   "cell_type": "code",
   "execution_count": 1,
   "metadata": {},
   "outputs": [],
   "source": [
    "# Empty Dictionary\n",
    "\n",
    "# 중괄호 이용\n",
    "_dict = {}\n",
    "\n",
    "# dict() 함수 이용 : 생성자\n",
    "_dict = dict()"
   ]
  },
  {
   "cell_type": "code",
   "execution_count": 2,
   "metadata": {},
   "outputs": [
    {
     "name": "stdout",
     "output_type": "stream",
     "text": [
      "<class 'dict'>\n",
      "{'apple': 'red', 'banana': 'yellow', 'grape': 'purple'}\n",
      "\n",
      "<class 'dict'>\n",
      "{'apple': 'red', 'banana': 'yellow', 'grape': 'purple'}\n"
     ]
    }
   ],
   "source": [
    "# Dictionary with element\n",
    "\n",
    "# _dict = { key : value } \n",
    "fruits = {'apple':'red', 'banana':'yellow', 'grape':'purple'}\n",
    "\n",
    "print(type(fruits))\n",
    "print(fruits)\n",
    "\n",
    "print()\n",
    "\n",
    "# _dict = dict({key : value, ...})\n",
    "fruits2 = dict({'apple':'red', 'banana':'yellow', 'grape':'purple'})\n",
    "\n",
    "print(type(fruits2))\n",
    "print(fruits2)\n"
   ]
  },
  {
   "cell_type": "code",
   "execution_count": 3,
   "metadata": {},
   "outputs": [
    {
     "name": "stdout",
     "output_type": "stream",
     "text": [
      "<class 'dict'>\n",
      "{'espresso': None, 'americano': None, 'latte': None, 'flatwhite': None}\n",
      "\n",
      "<class 'dict'>\n",
      "{'espresso': 5000, 'americano': 5000, 'latte': 5000, 'flatwhite': 5000}\n"
     ]
    }
   ],
   "source": [
    "# dict.fromkeys(sequence, val)\n",
    "# -> 사전에 정의된 일련의 요소(list)를 인자로 전달 받고, 이를 key로 사용하는 dict를 반환\n",
    "# -> val 인자를 통해 모든 key에 대한 value를 설정할 수 있으며, default는 None이다.\n",
    "\n",
    "coffee = ['espresso','americano','latte','flatwhite']\n",
    "cafe = dict.fromkeys(coffee) \n",
    "\n",
    "print(type(cafe))\n",
    "print(cafe)\n",
    "\n",
    "print()\n",
    "\n",
    "coffee = ['espresso','americano','latte','flatwhite']\n",
    "cafe2 = dict.fromkeys(coffee, 5000) # 모든 key에 동일한 값(5000) 적용\n",
    "\n",
    "print(type(cafe2))\n",
    "print(cafe2)"
   ]
  },
  {
   "cell_type": "code",
   "execution_count": 4,
   "metadata": {},
   "outputs": [
    {
     "name": "stdout",
     "output_type": "stream",
     "text": [
      "<class 'dict'>\n",
      "{'digit': [0, 1, 2, 3], 'lowercase': ['a', 'b', 'c', 'd'], 'uppercase': ['A', 'B', 'C', 'D']}\n"
     ]
    }
   ],
   "source": [
    "# List as element\n",
    "# list를 value로 저장 가능.\n",
    "\n",
    "lst1 = [0,1,2,3]\n",
    "lst2 = ['a','b','c','d']\n",
    "lst3 = ['A','B','C','D']\n",
    "\n",
    "char = {\n",
    "    'digit':lst1,\n",
    "    'lowercase' : lst2,\n",
    "    'uppercase' : lst3\n",
    "}\n",
    "\n",
    "print(type(char))\n",
    "print(char)"
   ]
  },
  {
   "cell_type": "markdown",
   "metadata": {},
   "source": [
    "### Methods and Keyword"
   ]
  },
  {
   "cell_type": "markdown",
   "metadata": {},
   "source": [
    "#### in \n",
    "Dictionary에 해당 키가 있는지 "
   ]
  },
  {
   "cell_type": "code",
   "execution_count": 5,
   "metadata": {},
   "outputs": [
    {
     "name": "stdout",
     "output_type": "stream",
     "text": [
      "apple is in fruits\n",
      "pencil is not in fruits\n"
     ]
    }
   ],
   "source": [
    "fruits = {'apple':'red', 'banana':'yellow', 'grape':'purple'}\n",
    "\n",
    "if 'apple' in fruits:\n",
    "    print('apple is in fruits')\n",
    "else :\n",
    "    print('apple is not in fruits')\n",
    "\n",
    "if 'pencil' in fruits:\n",
    "    print('pencis is in fruits')\n",
    "else : \n",
    "    print('pencil is not in fruits')"
   ]
  },
  {
   "cell_type": "markdown",
   "metadata": {},
   "source": [
    "#### keys()\n",
    "Dictionary의 key 반환"
   ]
  },
  {
   "cell_type": "code",
   "execution_count": 6,
   "metadata": {},
   "outputs": [
    {
     "name": "stdout",
     "output_type": "stream",
     "text": [
      "dict_keys(['apple', 'banana', 'grape'])\n",
      "apple\n",
      "banana\n",
      "grape\n"
     ]
    }
   ],
   "source": [
    "fruits = {'apple':'red', 'banana':'yellow', 'grape':'purple'}\n",
    "\n",
    "print(fruits.keys())\n",
    "\n",
    "for key in fruits.keys():\n",
    "    print(key)"
   ]
  },
  {
   "cell_type": "markdown",
   "metadata": {},
   "source": [
    "#### values()\n",
    "Dictionary의 value 반환"
   ]
  },
  {
   "cell_type": "code",
   "execution_count": 7,
   "metadata": {},
   "outputs": [
    {
     "name": "stdout",
     "output_type": "stream",
     "text": [
      "dict_values([4000, 4500, 5000, 5000])\n",
      "4000\n",
      "4500\n",
      "5000\n",
      "5000\n"
     ]
    }
   ],
   "source": [
    "coffee = {'espresso':4000, 'americano':4500, 'latte':5000, 'flatwhite':5000}\n",
    "\n",
    "print(coffee.values())\n",
    "\n",
    "for value in coffee.values():\n",
    "    print(value)"
   ]
  },
  {
   "cell_type": "markdown",
   "metadata": {},
   "source": [
    "#### items()\n",
    "Dictionary의 (key,value) 반환 : tuple로 반환"
   ]
  },
  {
   "cell_type": "code",
   "execution_count": 8,
   "metadata": {},
   "outputs": [
    {
     "name": "stdout",
     "output_type": "stream",
     "text": [
      "dict_items([('espresso', 4000), ('americano', 4500), ('latte', 5000), ('flatwhite', 5000)])\n",
      "('espresso', 4000)\n",
      "('americano', 4500)\n",
      "('latte', 5000)\n",
      "('flatwhite', 5000)\n"
     ]
    }
   ],
   "source": [
    "coffee = {'espresso':4000, 'americano':4500, 'latte':5000, 'flatwhite':5000}\n",
    "\n",
    "print(coffee.items())\n",
    "\n",
    "for item in coffee.items():\n",
    "    print(item)"
   ]
  },
  {
   "cell_type": "markdown",
   "metadata": {},
   "source": [
    "#### get()\n",
    "Dictionary의 key로 value 가져오기\n",
    "\n",
    "해당 key가 존재하지 않는 경우 None 반환"
   ]
  },
  {
   "cell_type": "code",
   "execution_count": 9,
   "metadata": {},
   "outputs": [
    {
     "name": "stdout",
     "output_type": "stream",
     "text": [
      "4500\n",
      "None\n"
     ]
    }
   ],
   "source": [
    "coffee = {'espresso':4000, 'americano':4500, 'latte':5000, 'flatwhite':5000}\n",
    "\n",
    "print(coffee.get('americano'))\n",
    "\n",
    "print(coffee.get('cappuccino'))"
   ]
  },
  {
   "cell_type": "markdown",
   "metadata": {},
   "source": [
    "#### del\n",
    "Dictionary에서 (key,value) 한 쌍 지우기\n",
    "\n",
    "del은 함수가 아닌 **키워드**"
   ]
  },
  {
   "cell_type": "code",
   "execution_count": 10,
   "metadata": {},
   "outputs": [
    {
     "name": "stdout",
     "output_type": "stream",
     "text": [
      "{'espresso': 4000, 'americano': 4500, 'latte': 5000, 'flatwhite': 5000}\n",
      "{'americano': 4500, 'latte': 5000, 'flatwhite': 5000}\n"
     ]
    }
   ],
   "source": [
    "coffee = {'espresso':4000, 'americano':4500, 'latte':5000, 'flatwhite':5000}\n",
    "\n",
    "print(coffee)\n",
    "\n",
    "del coffee['espresso']\n",
    "print(coffee)\n",
    "\n",
    "# del coffee['cappuccino'] # KeyError : 존재하지 않는 키"
   ]
  },
  {
   "cell_type": "markdown",
   "metadata": {},
   "source": [
    "#### pop()\n",
    "Dictionary에서 key에 대응되는 value를 반환 후, 해당 (key, value) 쌍 삭제"
   ]
  },
  {
   "cell_type": "code",
   "execution_count": 11,
   "metadata": {},
   "outputs": [
    {
     "name": "stdout",
     "output_type": "stream",
     "text": [
      "{'espresso': 4000, 'americano': 4500, 'latte': 5000, 'flatwhite': 5000}\n",
      "5000\n",
      "{'espresso': 4000, 'americano': 4500, 'latte': 5000}\n"
     ]
    }
   ],
   "source": [
    "coffee = {'espresso':4000, 'americano':4500, 'latte':5000, 'flatwhite':5000}\n",
    "print(coffee)\n",
    "\n",
    "print(coffee.pop('flatwhite'))\n",
    "print(coffee)"
   ]
  },
  {
   "cell_type": "markdown",
   "metadata": {},
   "source": [
    "#### clear()\n",
    "Dictionary내 모든 (key, value) 쌍 지우기, 초기화"
   ]
  },
  {
   "cell_type": "code",
   "execution_count": 12,
   "metadata": {},
   "outputs": [
    {
     "name": "stdout",
     "output_type": "stream",
     "text": [
      "{'espresso': 4000, 'americano': 4500, 'latte': 5000, 'flatwhite': 5000}\n",
      "{}\n"
     ]
    }
   ],
   "source": [
    "coffee = {'espresso':4000, 'americano':4500, 'latte':5000, 'flatwhite':5000}\n",
    "print(coffee)\n",
    "\n",
    "coffee.clear()\n",
    "print(coffee)"
   ]
  },
  {
   "cell_type": "markdown",
   "metadata": {},
   "source": [
    "#### sorted() -> list\n",
    "Dictionary 정렬"
   ]
  },
  {
   "cell_type": "code",
   "execution_count": 4,
   "metadata": {},
   "outputs": [
    {
     "name": "stdout",
     "output_type": "stream",
     "text": [
      "{'espresso': 4000, 'americano': 4500, 'latte': 5000, 'flatwhite': 5000}\n",
      "\n",
      "['americano', 'espresso', 'flatwhite', 'latte']\n"
     ]
    }
   ],
   "source": [
    "coffee = {'espresso':4000, 'americano':4500, 'latte':5000, 'flatwhite':5000}\n",
    "print(coffee)\n",
    "\n",
    "print()\n",
    "\n",
    "# key값만 정렬\n",
    "print(sorted(coffee))"
   ]
  },
  {
   "cell_type": "code",
   "execution_count": 8,
   "metadata": {},
   "outputs": [
    {
     "name": "stdout",
     "output_type": "stream",
     "text": [
      "<class 'list'>\n",
      "[('americano', 4500), ('espresso', 4000), ('flatwhite', 5000), ('latte', 5000)]\n",
      "\n",
      "<class 'dict'>\n",
      "{'americano': 4500, 'espresso': 4000, 'flatwhite': 5000, 'latte': 5000}\n"
     ]
    }
   ],
   "source": [
    "# key를 기준으로 (key:value) 쌍이 정렬 \n",
    "print(type(sorted(coffee.items())))\n",
    "print(sorted(coffee.items()))\n",
    "print()\n",
    "# sorted()함수의 경우 return type이 list이므로 dict로 사용하고 싶다면 dict()로 묶어주어야 한다.\n",
    "print(type((dict(sorted(coffee.items())))))\n",
    "print(dict(sorted(coffee.items())))"
   ]
  },
  {
   "cell_type": "code",
   "execution_count": 11,
   "metadata": {},
   "outputs": [
    {
     "name": "stdout",
     "output_type": "stream",
     "text": [
      "{'espresso': 4000, 'americano': 4500, 'latte': 5000, 'flatwhite': 5000}\n",
      "{'latte': 5000, 'flatwhite': 5000, 'americano': 4500, 'espresso': 4000}\n"
     ]
    }
   ],
   "source": [
    "# value 기준 정렬\n",
    "coffee = {'espresso':4000, 'americano':4500, 'latte':5000, 'flatwhite':5000}\n",
    "\n",
    "# 오름차순\n",
    "sorted_coffee = dict(sorted(coffee.items(), key=lambda x:x[1], reverse=False))\n",
    "print(sorted_coffee)\n",
    "\n",
    "# 내림차순\n",
    "sorted_coffee = dict(sorted(coffee.items(), key=lambda x:x[1], reverse=True))\n",
    "print(sorted_coffee)"
   ]
  },
  {
   "cell_type": "code",
   "execution_count": 3,
   "metadata": {},
   "outputs": [
    {
     "name": "stdout",
     "output_type": "stream",
     "text": [
      "Before sorting: {'espresso': 4000, 'americano': 4500, 'latte': 5000, 'flatwhite': 5000}\n",
      "After sorting: {'espresso': 4000, 'americano': 4500, 'flatwhite': 5000, 'latte': 5000}\n"
     ]
    }
   ],
   "source": [
    "# 다중조건 정렬\n",
    "# 참고 문항 TableHashFunction #147354\n",
    "\n",
    "coffee = {'espresso':4000, 'americano':4500, 'latte':5000, 'flatwhite':5000}\n",
    "\n",
    "# value(가격)를 기준으로 오름차순 정렬, 가격이 같다면 key(메뉴)를 기준으로 오름차순 정렬\n",
    "multi_cond_sort = dict(sorted(coffee.items(), key=lambda x: (x[1], x[0])))\n",
    "print(f\"Before sorting: {coffee}\")\n",
    "print(f\"After sorting: {multi_cond_sort}\")"
   ]
  },
  {
   "cell_type": "code",
   "execution_count": null,
   "metadata": {},
   "outputs": [],
   "source": []
  }
 ],
 "metadata": {
  "kernelspec": {
   "display_name": "base",
   "language": "python",
   "name": "python3"
  },
  "language_info": {
   "codemirror_mode": {
    "name": "ipython",
    "version": 3
   },
   "file_extension": ".py",
   "mimetype": "text/x-python",
   "name": "python",
   "nbconvert_exporter": "python",
   "pygments_lexer": "ipython3",
   "version": "3.10.10"
  }
 },
 "nbformat": 4,
 "nbformat_minor": 2
}
