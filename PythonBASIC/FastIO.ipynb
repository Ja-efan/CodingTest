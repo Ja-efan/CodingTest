{
 "cells": [
  {
   "cell_type": "markdown",
   "metadata": {},
   "source": [
    "프로그래밍 대회나 기업 코딩테스트에서는 제한 시간이 있기 때문에, 입출력에서 시간을 줄이는 것이 중요하다. \n",
    "\n",
    "특히, 다른 언어에 비해 굉장히 느린 Python은 입출력 자체만으로 시간 초과가 나기도 한다. \n",
    "\n",
    "따라서 Python을 주력언어로 사용하는 나로서, 빠른 입출력 방법을 정리한다."
   ]
  },
  {
   "cell_type": "markdown",
   "metadata": {},
   "source": [
    "## 표준 입출력\n",
    "\n",
    "Python의 표준 입력(input)과 출력(print)함수는 편리하지만, 속도 면에서는 다소 느리다.(사실 매우 느리다.)\n",
    "\n",
    "따라서, sys모듈의 stdin과 stdout 객체를 사용한다.\n",
    "\n",
    "sys.stdin과 sys.stdout은 Python에서 표준 입력과 표준 출력을 다루기 위한 객체이다. \n",
    "\n",
    "이 두 객체는 프로그램이 외부와 데이터를 주고받을 수 있는 기본적인 방법을 제공한다."
   ]
  },
  {
   "cell_type": "markdown",
   "metadata": {},
   "source": [
    "\n",
    "### sys.stdin\n",
    "\n",
    "- 정의 : sys.stdin은 표준 입력 스트림을 나타내는 객체이다. 보통 키보드로부터 입력을 받을 때 사용된다.\n",
    "- 특징 \n",
    "  - sys.stdin.read() : 입력 스트림 전체를 한 번에 읽는다.\n",
    "  - sys.stdin.readline() : 한 줄씩 입력을 읽는다. (개행문자 포함)\n",
    "  - sys.stdin.read(n) : n bytes만큼 입력을 읽는다.\n",
    "  - sys.stdin.readlines() : 입력 스트림 전체를 읽어 각 줄을 리스트의 요소로 반환한다. "
   ]
  },
  {
   "cell_type": "code",
   "execution_count": 2,
   "metadata": {},
   "outputs": [],
   "source": [
    "# 예시\n",
    "\n",
    "# sys 모듈 로드\n",
    "import sys \n",
    "\n",
    "# 전체 입력 읽기\n",
    "data = sys.stdin.read()\n",
    "print(data)"
   ]
  },
  {
   "cell_type": "code",
   "execution_count": null,
   "metadata": {},
   "outputs": [],
   "source": [
    "# 한 줄씩 읽기\n",
    "while True:\n",
    "    line = sys.stdin.readline()\n",
    "    if not line:\n",
    "        break\n",
    "    print(line.strip()) # 입력 앞 뒤의 개행 문자 제거 "
   ]
  },
  {
   "cell_type": "markdown",
   "metadata": {},
   "source": [
    "### sys.stdout\n",
    "\n",
    "- 정의 : sys.stdout은 표준 출력 스트림을 나타내는 객체이다. 보통 화면(콘솔)으로 출력할 때 사용된다.\n",
    "- 특징 \n",
    "  - sys.stdout.write() : 문자열을 표준 출력에 쓴다. 줄바꿈 문자를 자동으로 추가하지 않는다.\n",
    "  - sys.stdout.flush() : 출력 버퍼를 강제로 비운다."
   ]
  },
  {
   "cell_type": "code",
   "execution_count": 1,
   "metadata": {},
   "outputs": [
    {
     "name": "stdout",
     "output_type": "stream",
     "text": [
      "Hello, World!\n",
      "line 1\n",
      "line 2\n",
      "line 3\n",
      "line 4\n",
      "line 5\n"
     ]
    }
   ],
   "source": [
    "# 예시 \n",
    "\n",
    "import sys\n",
    "\n",
    "sys.stdout.write(\"Hello, World!\\n\")\n",
    "\n",
    "# 반복문을 사용한 출력\n",
    "for i in range(5):\n",
    "    sys.stdout.write(f\"line {i+1}\\n\")"
   ]
  },
  {
   "cell_type": "code",
   "execution_count": null,
   "metadata": {},
   "outputs": [],
   "source": []
  }
 ],
 "metadata": {
  "kernelspec": {
   "display_name": "data",
   "language": "python",
   "name": "python3"
  },
  "language_info": {
   "codemirror_mode": {
    "name": "ipython",
    "version": 3
   },
   "file_extension": ".py",
   "mimetype": "text/x-python",
   "name": "python",
   "nbconvert_exporter": "python",
   "pygments_lexer": "ipython3",
   "version": "3.12.1"
  }
 },
 "nbformat": 4,
 "nbformat_minor": 2
}
