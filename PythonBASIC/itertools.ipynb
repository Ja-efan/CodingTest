{
 "cells": [
  {
   "cell_type": "markdown",
   "metadata": {},
   "source": [
    "# Itertools\n",
    "\n",
    "Python의 'itertools' 모듈은 반복 가능한 데이터 구조를 효율적으로 처리하는 데 도움이 되는 다양한 반복자를 제공한다. \n",
    "\n",
    "이 모듈은 주로 순열과 조합을 포함한 조합론적 구조를 생성하거나, 여러 데이터 스트림을 조작하고, 고성능 루핑을 위한 도구를 제공하는 데 유용하다.\n",
    "\n",
    "여기에는 여러 가지 함수들이 있으며, 이들은 크게 세가지 범주로 나눌 수 있다."
   ]
  },
  {
   "cell_type": "code",
   "execution_count": 1,
   "metadata": {},
   "outputs": [],
   "source": [
    "import itertools"
   ]
  },
  {
   "cell_type": "markdown",
   "metadata": {},
   "source": [
    "## 1. 무한 반복자\n",
    "\n",
    "- count(start, step) : 'start'에서 시작하여 'step'만큼 증가하는 무한 숫자 시퀀스를 생성한다. \n",
    "- cycle(iterable) : 주어진 반복 가능 객체를 무한히 반복한다. \n",
    "- repeat(object, times) : 주어진 객체를 지정된 횟수만큼 반복한다. (횟수 지정이 없으면 무한히 반복)"
   ]
  },
  {
   "cell_type": "code",
   "execution_count": 3,
   "metadata": {},
   "outputs": [
    {
     "name": "stdout",
     "output_type": "stream",
     "text": [
      "10\n",
      "12\n",
      "14\n",
      "16\n",
      "18\n",
      "20\n",
      "22\n"
     ]
    }
   ],
   "source": [
    "# count()\n",
    "\n",
    "# 10부터 시작해서 2씩 증가하는 숫자를 생성\n",
    "for i in itertools.count(10,2):\n",
    "    print(i)\n",
    "    if i > 20: # 20을 초과하면 루프 중단 \n",
    "        break"
   ]
  },
  {
   "cell_type": "code",
   "execution_count": 6,
   "metadata": {},
   "outputs": [
    {
     "name": "stdout",
     "output_type": "stream",
     "text": [
      "A\n",
      "B\n",
      "C\n",
      "D\n",
      "A\n",
      "B\n",
      "C\n",
      "D\n",
      "A\n",
      "B\n"
     ]
    }
   ],
   "source": [
    "# cycle()\n",
    "\n",
    "# 문자열 'ABCD'를 무한히 반복\n",
    "counter = 0\n",
    "for char in itertools.cycle('ABCD'):\n",
    "    print(char)\n",
    "    counter += 1\n",
    "    if counter == 10 :\n",
    "        break # 10번 반복 후 중단"
   ]
  },
  {
   "cell_type": "code",
   "execution_count": 7,
   "metadata": {},
   "outputs": [
    {
     "name": "stdout",
     "output_type": "stream",
     "text": [
      "Hello\n",
      "Hello\n",
      "Hello\n"
     ]
    }
   ],
   "source": [
    "# repeat()\n",
    "\n",
    "# \"Hello\" 문자열을 3번 반복 출력\n",
    "for item in itertools.repeat(\"Hello\", 3):\n",
    "    print(item)"
   ]
  },
  {
   "cell_type": "markdown",
   "metadata": {},
   "source": [
    "## 2. 유한 반복자 \n",
    "\n",
    "- accumulate(iterable, func) : 누적 합계나 다른 누적 결과를 계산 (Ex.최소값, 최대값)\n",
    "- chain(*iterable) : 여러 반복 가능 객체를 연결하여 하나의 반복자로 만듦\n",
    "- groupby(iterable, key) : 키 함수에 따라 그룹화하고 각 그룹과 함께 키를 반환\n",
    "- compress(data, selectors) : 'selectors'가 True인 'data'의 요소만 추출\n",
    "- dropwhile(predicate, iterable) : 조건이 Fasle가 될 때까지 요소를 건너뛰고 나머지를 반환 \n",
    "- takewhile(predicate, iterable) : 조건이 True인 동안 요소를 반환 \n",
    "- filterfalse(predicate, iterable) : 조건이 False인 동안 요소를 반환 \n",
    "- islice(iterable, start, stop, step) : 슬라이스된 반복 가능 객체를 반환   "
   ]
  },
  {
   "cell_type": "code",
   "execution_count": 12,
   "metadata": {},
   "outputs": [
    {
     "name": "stdout",
     "output_type": "stream",
     "text": [
      "[1, 3, 6, 10, 15]\n"
     ]
    }
   ],
   "source": [
    "# accumulate(iterable, func)\n",
    "\n",
    "import operator\n",
    "\n",
    "# 숫자의 누적 합계를 계산\n",
    "data = [1,2,3,4,5]\n",
    "result = list(itertools.accumulate(data, operator.add))\n",
    "print(result)"
   ]
  },
  {
   "cell_type": "code",
   "execution_count": 13,
   "metadata": {},
   "outputs": [
    {
     "name": "stdout",
     "output_type": "stream",
     "text": [
      "[1, 2, 3, 4, 5, 6, 7, 8, 9]\n"
     ]
    }
   ],
   "source": [
    "# chain(*iterable)\n",
    "\n",
    "# 여러 리스트를 연결\n",
    "a = [1,2,3]\n",
    "b = [4,5,6]\n",
    "c = [7,8,9]\n",
    "\n",
    "result = list(itertools.chain(a,b,c))\n",
    "print(result)"
   ]
  },
  {
   "cell_type": "code",
   "execution_count": 14,
   "metadata": {},
   "outputs": [
    {
     "name": "stdout",
     "output_type": "stream",
     "text": [
      "fruit [('apple', 'fruit'), ('banana', 'fruit')]\n",
      "vegetable [('carrot', 'vegetable')]\n"
     ]
    }
   ],
   "source": [
    "# groupby(iterable, key)\n",
    "\n",
    "data = [('apple', 'fruit'), ('banana','fruit'),('carrot', 'vegetable')]\n",
    "grouped_data = itertools.groupby(data, lambda x : x[1])\n",
    "for key, group in grouped_data:\n",
    "    print(key, list(group))"
   ]
  },
  {
   "cell_type": "code",
   "execution_count": 15,
   "metadata": {},
   "outputs": [
    {
     "name": "stdout",
     "output_type": "stream",
     "text": [
      "['A', 'C', 'E']\n"
     ]
    }
   ],
   "source": [
    "# compress(data, selectors)\n",
    "\n",
    "# 선택자가 True인 요소를 반환\n",
    "data = ['A','B','C','D','E']\n",
    "selectors = [1,0,1,0,1]\n",
    "result = list(itertools.compress(data, selectors))\n",
    "print(result)"
   ]
  },
  {
   "cell_type": "markdown",
   "metadata": {},
   "source": [
    "## 3. 조합론적 반복자 \n",
    "\n",
    "- product(*iterables, repeat=1) : 입력된 반복 가능 객체들의 카테시안 곱을 반환\n",
    "- permutation(iterable, r=None) : 주어진 반복 가능 객체의 요소들로 구성된 모든 가능한 순열을 반환\n",
    "- combination(iterable, r) : 주어진 반복 가능 객체의 요소들로 구성된 모든 조합을 반환\n",
    "- combinations_with_replacement(iterable, r) : 중복을 허용하여 모든 조합을 반환"
   ]
  },
  {
   "cell_type": "code",
   "execution_count": 16,
   "metadata": {},
   "outputs": [
    {
     "name": "stdout",
     "output_type": "stream",
     "text": [
      "[(1, 'red'), (1, 'blue'), (2, 'red'), (2, 'blue')]\n"
     ]
    }
   ],
   "source": [
    "# product(*iterables, repeat=1)\n",
    "\n",
    "# 두 개의 리스트의 카테시안 곱을 생성\n",
    "a = [1,2]\n",
    "b = ['red','blue']\n",
    "result = list(itertools.product(a,b))\n",
    "print(result)"
   ]
  },
  {
   "cell_type": "code",
   "execution_count": 19,
   "metadata": {},
   "outputs": [
    {
     "name": "stdout",
     "output_type": "stream",
     "text": [
      "[('A', 'B'), ('A', 'C'), ('A', 'D'), ('B', 'A'), ('B', 'C'), ('B', 'D'), ('C', 'A'), ('C', 'B'), ('C', 'D'), ('D', 'A'), ('D', 'B'), ('D', 'C')]\n"
     ]
    }
   ],
   "source": [
    "# permutations(iterable, r=None)\n",
    "\n",
    "# 'ABCD'의 길이 2 순열 모두 생성\n",
    "result = list(itertools.permutations('ABCD', 2))\n",
    "print(result)"
   ]
  },
  {
   "cell_type": "code",
   "execution_count": 21,
   "metadata": {},
   "outputs": [
    {
     "name": "stdout",
     "output_type": "stream",
     "text": [
      "[(1, 2, 3), (1, 2, 4), (1, 3, 4), (2, 3, 4)]\n"
     ]
    }
   ],
   "source": [
    "# combinations(iterable, k)\n",
    "\n",
    "# [1,2,3,4]에서 3개 요소의 조합을 생성\n",
    "result = list(itertools.combinations([1,2,3,4],3))\n",
    "print(result)"
   ]
  },
  {
   "cell_type": "code",
   "execution_count": 22,
   "metadata": {},
   "outputs": [
    {
     "name": "stdout",
     "output_type": "stream",
     "text": [
      "[(1, 1), (1, 2), (1, 3), (2, 2), (2, 3), (3, 3)]\n"
     ]
    }
   ],
   "source": [
    "# combinations_with_replacement(iterable, r)\n",
    "\n",
    "# 중복을 허용하여 [1,2,3]에서 2개 요소의 조합을 생성\n",
    "result = list(itertools.combinations_with_replacement([1,2,3],2))\n",
    "print(result)"
   ]
  },
  {
   "cell_type": "code",
   "execution_count": null,
   "metadata": {},
   "outputs": [],
   "source": []
  }
 ],
 "metadata": {
  "kernelspec": {
   "display_name": "base",
   "language": "python",
   "name": "python3"
  },
  "language_info": {
   "codemirror_mode": {
    "name": "ipython",
    "version": 3
   },
   "file_extension": ".py",
   "mimetype": "text/x-python",
   "name": "python",
   "nbconvert_exporter": "python",
   "pygments_lexer": "ipython3",
   "version": "3.10.10"
  }
 },
 "nbformat": 4,
 "nbformat_minor": 2
}
